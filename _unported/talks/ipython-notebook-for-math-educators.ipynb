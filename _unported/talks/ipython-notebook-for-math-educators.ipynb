{
 "metadata": {
  "celltoolbar": "Slideshow",
  "name": ""
 },
 "nbformat": 3,
 "nbformat_minor": 0,
 "worksheets": [
  {
   "cells": [
    {
     "cell_type": "markdown",
     "metadata": {
      "slideshow": {
       "slide_type": "slide"
      }
     },
     "source": [
      "<center>\n",
      "\n",
      "<h1>A Look at iPython for Math Educators</h1>\n",
      "\n",
      "Eric Drechsel <br>\n",
      "@edrex <br>\n",
      "[eric.pdxhub.org](http://eric.pdxhub.org/)\n",
      "</center>"
     ]
    },
    {
     "cell_type": "markdown",
     "metadata": {
      "slideshow": {
       "slide_type": "notes"
      }
     },
     "source": [
      " - Thank Tim\n",
      " \n",
      "Today I'm going to talk about iPython,\n",
      "\n",
      "a collaborative web based authoring environment... for math\n",
      "\n",
      " - an area in which I'm thoroughly comfortable\n",
      " \n",
      "The math stuff, for me, has a layer of dust\n"
     ]
    },
    {
     "cell_type": "markdown",
     "metadata": {
      "slideshow": {
       "slide_type": "skip"
      }
     },
     "source": [
      "# Outline\n",
      "\n",
      "## python modules\n",
      "\n",
      " - pandas\n",
      " - numpy\n",
      " - scipy\n",
      "\n",
      "\n",
      "publishing notebooks\n",
      "\n",
      " - [nbviewer](http://nbviewer.ipython.org/)"
     ]
    },
    {
     "cell_type": "markdown",
     "metadata": {
      "slideshow": {
       "slide_type": "slide"
      }
     },
     "source": [
      "## What's this iPython thing then?"
     ]
    },
    {
     "cell_type": "markdown",
     "metadata": {
      "slideshow": {
       "slide_type": "fragment"
      }
     },
     "source": [
      "a suite of tools for interactive computation"
     ]
    },
    {
     "cell_type": "markdown",
     "metadata": {
      "slideshow": {
       "slide_type": "fragment"
      }
     },
     "source": [
      "notebook server!"
     ]
    },
    {
     "cell_type": "markdown",
     "metadata": {
      "slideshow": {
       "slide_type": "notes"
      }
     },
     "source": [
      "iPython has evolved a lot over the past half decade.\n",
      "\n",
      "It still includes an interactive REPL for the CLI, but the crown jewel is the notebook server.\n",
      "\n",
      "\n",
      "As of today, it's a set of tools for interactive computation. So vague!\n",
      "\n"
     ]
    },
    {
     "cell_type": "code",
     "collapsed": false,
     "input": [
      " print(\"foo\")"
     ],
     "language": "python",
     "metadata": {
      "slideshow": {
       "slide_type": "slide"
      }
     },
     "outputs": [
      {
       "output_type": "stream",
       "stream": "stdout",
       "text": [
        "foo\n"
       ]
      }
     ],
     "prompt_number": 1
    },
    {
     "cell_type": "markdown",
     "metadata": {
      "slideshow": {
       "slide_type": "notes"
      }
     },
     "source": [
      "**DEMO** Switch to notebook in next tab"
     ]
    },
    {
     "cell_type": "heading",
     "level": 1,
     "metadata": {
      "slideshow": {
       "slide_type": "slide"
      }
     },
     "source": [
      "The Notebook"
     ]
    },
    {
     "cell_type": "markdown",
     "metadata": {
      "slideshow": {
       "slide_type": "notes"
      }
     },
     "source": [
      "**DEMO** Switch to notebook in next tab\n",
      "\n",
      "I'm going to go through ipython features that I think are likely to be relevant to you, as math educators and researchers. \n",
      "\n",
      "With each feature, take a moment to think about how you might use it in your teaching or research practice"
     ]
    },
    {
     "cell_type": "markdown",
     "metadata": {
      "slideshow": {
       "slide_type": "fragment"
      }
     },
     "source": [
      "- Not just Python. Kernels for R, Julia, Ruby, and many more.\n",
      "- Markdown, LaTeX, figures\n",
      "- collaborate with colleagues\n",
      "- a file format for sharing your work"
     ]
    },
    {
     "cell_type": "markdown",
     "metadata": {
      "slideshow": {
       "slide_type": "slide"
      }
     },
     "source": [
      "## Running it\n",
      "\n",
      " - Getting iPython running locally\n",
      " - Installation is a pain point, so many groups run a shared instance (Amazon EC2 is an option)\n"
     ]
    },
    {
     "cell_type": "markdown",
     "metadata": {
      "slideshow": {
       "slide_type": "notes"
      }
     },
     "source": []
    },
    {
     "cell_type": "heading",
     "level": 2,
     "metadata": {
      "slideshow": {
       "slide_type": "slide"
      }
     },
     "source": [
      "Tour"
     ]
    },
    {
     "cell_type": "markdown",
     "metadata": {
      "slideshow": {
       "slide_type": "notes"
      }
     },
     "source": []
    },
    {
     "cell_type": "markdown",
     "metadata": {
      "slideshow": {
       "slide_type": "slide"
      }
     },
     "source": [
      "<center>\n",
      "Eric Drechsel<br>\n",
      "eric@pdxhub.org<br>\n",
      "@edrex<br>\n",
      "Slides at http://eric.pdxhub.org/\n",
      "</center>"
     ]
    }
   ],
   "metadata": {}
  }
 ]
}